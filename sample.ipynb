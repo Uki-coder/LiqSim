{
 "cells": [
  {
   "metadata": {},
   "cell_type": "markdown",
   "source": [
    "# This is a sample Jupyter Notebook\n",
    "\n",
    "Below is an example of a code cell. \n",
    "Put your cursor into the cell and press Shift+Enter to execute it and select the next one, or click 'Run Cell' button.\n",
    "\n",
    "Press Double Shift to search everywhere for classes, files, tool windows, actions, and settings.\n",
    "\n",
    "To learn more about Jupyter Notebooks in PyCharm, see [help](https://www.jetbrains.com/help/pycharm/ipython-notebook-support.html).\n",
    "For an overview of PyCharm, go to Help -> Learn IDE features or refer to [our documentation](https://www.jetbrains.com/help/pycharm/getting-started.html)."
   ],
   "id": "8a77807f92f26ee"
  },
  {
   "metadata": {},
   "cell_type": "code",
   "source": [
    "from plot_makers.surf_maker import surf_maker\n",
    "import numpy as np\n",
    "\n",
    "fun = lambda x, y, t: 10*np.sin(-0.25*t*np.sqrt(x*x + y*y))\n",
    "\n",
    "xlim = np.array([-25,25])\n",
    "ylim = np.array([-25,25])\n",
    "tlim = np.array([0,5])\n",
    "fps = 120\n",
    "N = 150\n",
    "zlim = np.array([-50, 50])\n",
    "\n",
    "mkr = surf_maker(N,fps,xlim,ylim,tlim,fun,zlim)\n",
    "mkr.save_animated_plot()\n",
    "mkr.save_static_plot(3)"
   ],
   "id": "fbc121e30a2defb3",
   "outputs": [],
   "execution_count": null
  },
  {
   "metadata": {},
   "cell_type": "code",
   "source": [
    "from clawpack.pyclaw import examples\n",
    "claw = examples.shallow_2d.radial_dam_break.setup()\n",
    "claw.run()\n",
    "claw.plot()"
   ],
   "id": "268944a20bb1ac90",
   "outputs": [],
   "execution_count": null
  },
  {
   "metadata": {},
   "cell_type": "code",
   "source": [
    "from clawpack import pyclaw\n",
    "import numpy as np\n",
    "\n",
    "x = pyclaw.Dimension('x', -20, 20, 200)\n",
    "y = pyclaw.Dimension('y', -20, 20, 200)\n",
    "z = pyclaw.Dimension('z', -20, 20, 200)\n",
    "\n",
    "domain = pyclaw.Domain([x,y,z])\n",
    "num_eqn = 3\n",
    "state = pyclaw.State(domain, num_eqn)\n"
   ],
   "id": "6bb481e97f7af5a1",
   "outputs": [],
   "execution_count": null
  }
 ],
 "metadata": {
  "kernelspec": {
   "display_name": "Python 3",
   "language": "python",
   "name": "python3"
  },
  "language_info": {
   "codemirror_mode": {
    "name": "ipython",
    "version": 2
   },
   "file_extension": ".py",
   "mimetype": "text/x-python",
   "name": "python",
   "nbconvert_exporter": "python",
   "pygments_lexer": "ipython2",
   "version": "2.7.6"
  }
 },
 "nbformat": 4,
 "nbformat_minor": 5
}
