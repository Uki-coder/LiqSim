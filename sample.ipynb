{
 "cells": [
  {
   "metadata": {},
   "cell_type": "markdown",
   "source": [
    "# This is a sample Jupyter Notebook\n",
    "\n",
    "Below is an example of a code cell. \n",
    "Put your cursor into the cell and press Shift+Enter to execute it and select the next one, or click 'Run Cell' button.\n",
    "\n",
    "Press Double Shift to search everywhere for classes, files, tool windows, actions, and settings.\n",
    "\n",
    "To learn more about Jupyter Notebooks in PyCharm, see [help](https://www.jetbrains.com/help/pycharm/ipython-notebook-support.html).\n",
    "For an overview of PyCharm, go to Help -> Learn IDE features or refer to [our documentation](https://www.jetbrains.com/help/pycharm/getting-started.html)."
   ],
   "id": "8a77807f92f26ee"
  },
  {
   "metadata": {},
   "cell_type": "code",
   "source": [
    "from plot_makers.surf_maker import surf_maker\n",
    "import numpy as np\n",
    "\n",
    "from solv_scripts.solve import z_values\n",
    "\n",
    "fun = lambda x, y, t: 10*np.sin(-0.25*t*np.sqrt(x*x + y*y))\n",
    "\n",
    "xlim = np.array([-25,25])\n",
    "ylim = np.array([-25,25])\n",
    "tlim = np.array([0,5])\n",
    "fps = 120\n",
    "N = 150\n",
    "zlim = np.array([-50, 50])\n",
    "\n",
    "mkr = surf_maker(N,fps,xlim,ylim,tlim,fun,zlim)\n",
    "mkr.save_animated_plot()\n",
    "mkr.save_static_plot(3)"
   ],
   "id": "fbc121e30a2defb3",
   "outputs": [],
   "execution_count": null
  },
  {
   "metadata": {},
   "cell_type": "code",
   "source": [
    "from clawpack.pyclaw import examples\n",
    "claw = examples.shallow_2d.radial_dam_break.setup()\n",
    "claw.run()\n",
    "claw.plot()"
   ],
   "id": "268944a20bb1ac90",
   "outputs": [],
   "execution_count": null
  },
  {
   "metadata": {},
   "cell_type": "code",
   "source": [
    "import numpy as np\n",
    "from clawpack.riemann.shallow_roe_with_efix_2D_constants import depth, x_momentum, y_momentum\n",
    "from solv_scripts import solve\n",
    "\n",
    "def qinit(state,h_in=2.,h_out=1.,dam_radius=0.5):\n",
    "    x0=0.\n",
    "    y0=0.\n",
    "    X, Y = state.p_centers\n",
    "    r = np.sqrt((X-x0)**2 + (Y-y0)**2)\n",
    "\n",
    "    state.q[depth     ,:,:] = h_in*(r<=dam_radius) + h_out*(r>dam_radius)\n",
    "    state.q[x_momentum,:,:] = 0.\n",
    "    state.q[y_momentum,:,:] = 0.\n",
    "\n",
    "claw = solve.setup(qinit)\n",
    "claw.run()\n",
    "print('hihihihhiihi')\n",
    "\n",
    "#frames.//.state.q\n",
    "\n"
   ],
   "id": "6bb481e97f7af5a1",
   "outputs": [],
   "execution_count": null
  },
  {
   "metadata": {},
   "cell_type": "code",
   "source": [
    "from clawpack.pyclaw.examples.shallow_1d import sill\n",
    "\n",
    "claw = sill.setup()\n",
    "claw.run()\n",
    "claw.plot()"
   ],
   "id": "c3e93e00670a6d93",
   "outputs": [],
   "execution_count": null
  },
  {
   "metadata": {},
   "cell_type": "code",
   "source": [
    "import numpy as np\n",
    "from clawpack.riemann.shallow_roe_with_efix_2D_constants import depth, x_momentum, y_momentum\n",
    "from solv_scripts import solve\n",
    "from plot_makers.surf_maker import surf_maker\n",
    "\n",
    "def qinit(state, h_in=10., h_out=1., dam_radius=4.):\n",
    "        x0 = 0.\n",
    "        y0 = 0.\n",
    "        X, Y = state.p_centers\n",
    "        r = np.sqrt((X - x0) ** 2 + (Y - y0) ** 2)\n",
    "\n",
    "        state.q[depth, :, :] = h_in * (r <= dam_radius) + h_out * (r > dam_radius)\n",
    "        state.q[x_momentum, :, :] = 0.\n",
    "        state.q[y_momentum, :, :] = 0.\n",
    "\n",
    "def empty(): pass\n",
    "\n",
    "xlim = np.array([-6,6])\n",
    "ylim = np.array([-6,6])\n",
    "tlim = np.array([0,10])\n",
    "fps = 120\n",
    "N = 150\n",
    "zlim = np.array([-10, 10])\n",
    "zvalues = solve.z_values(qinit=qinit,tlim=tlim,frames=int((tlim[1]-tlim[0]) * fps), meshgrid_num= N, xlim=xlim,ylim=ylim)\n",
    "\n",
    "mkr = surf_maker(N,fps,xlim,ylim,tlim,zvalues,zlim,empty)\n",
    "mkr.save_animated_plot()\n",
    "mkr.save_static_plot(0.25)"
   ],
   "id": "220b5d4fcfc15ca1",
   "outputs": [],
   "execution_count": null
  }
 ],
 "metadata": {
  "kernelspec": {
   "display_name": "Python 3",
   "language": "python",
   "name": "python3"
  },
  "language_info": {
   "codemirror_mode": {
    "name": "ipython",
    "version": 2
   },
   "file_extension": ".py",
   "mimetype": "text/x-python",
   "name": "python",
   "nbconvert_exporter": "python",
   "pygments_lexer": "ipython2",
   "version": "2.7.6"
  }
 },
 "nbformat": 4,
 "nbformat_minor": 5
}
